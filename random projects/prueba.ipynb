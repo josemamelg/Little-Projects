{
 "cells": [
  {
   "cell_type": "code",
   "execution_count": 13,
   "metadata": {},
   "outputs": [
    {
     "name": "stdout",
     "output_type": "stream",
     "text": [
      "Ganaste :D\n"
     ]
    }
   ],
   "source": [
    "import random \n",
    "# Este módulo implementa generadores de números pseudoaleatorios para varias distribuciones. \n",
    "# Para los enteros, existe una selección uniforme dentro de un rango\n",
    "\n",
    "def play():\n",
    "    user = input(\"Elegi : 'p' es para piedra, 'pp' es para papel, y 't' es para tijera\")\n",
    "    computer = random.choice(['p', 'pp', 't'])\n",
    "\n",
    "    if user == computer:\n",
    "        return 'Empate'\n",
    "        \n",
    "    # p > t, pp > p, t > pp\n",
    "\n",
    "    if si_gana(user, computer):\n",
    "        return 'Ganaste :D'\n",
    "    \n",
    "    return 'Perdiste ajajaja'\n",
    "\n",
    "def si_gana(jugador, oponente):\n",
    "\n",
    "    if (jugador == 'p' and oponente == 't') or (jugador == 't' and oponente == 'p')  or (jugador == 'pp' and oponente == 't'):\n",
    "        return True \n",
    "    \n",
    "    \n",
    "print(play())\n"
   ]
  }
 ],
 "metadata": {
  "kernelspec": {
   "display_name": "Python 3",
   "language": "python",
   "name": "python3"
  },
  "language_info": {
   "codemirror_mode": {
    "name": "ipython",
    "version": 3
   },
   "file_extension": ".py",
   "mimetype": "text/x-python",
   "name": "python",
   "nbconvert_exporter": "python",
   "pygments_lexer": "ipython3",
   "version": "3.10.7"
  },
  "orig_nbformat": 4,
  "vscode": {
   "interpreter": {
    "hash": "df95319d8ce4e1d89f5365ae10992bc1f65da593082b1d264e8f529830ec2f02"
   }
  }
 },
 "nbformat": 4,
 "nbformat_minor": 2
}
